{
  "nbformat": 4,
  "nbformat_minor": 0,
  "metadata": {
    "colab": {
      "provenance": [],
      "authorship_tag": "ABX9TyNeV2iQQTSyDZtcWEIVxyvb",
      "include_colab_link": true
    },
    "kernelspec": {
      "name": "python3",
      "display_name": "Python 3"
    },
    "language_info": {
      "name": "python"
    }
  },
  "cells": [
    {
      "cell_type": "markdown",
      "metadata": {
        "id": "view-in-github",
        "colab_type": "text"
      },
      "source": [
        "<a href=\"https://colab.research.google.com/github/GitShamil/University_projects/blob/main/gaus_method.ipynb\" target=\"_parent\"><img src=\"https://colab.research.google.com/assets/colab-badge.svg\" alt=\"Open In Colab\"/></a>"
      ]
    },
    {
      "cell_type": "code",
      "execution_count": 99,
      "metadata": {
        "id": "_zMuWpkYqv7U"
      },
      "outputs": [],
      "source": [
        "from fractions import Fraction\n",
        "\n",
        "def gaus_method(mat):\n",
        "    num_rows_of_matrix = len(mat)\n",
        "    num_cols_of_matrix = len(mat[0])\n",
        "\n",
        "    current_col = 0\n",
        "    while current_col < num_cols_of_matrix:\n",
        "        if current_col >= num_rows_of_matrix:\n",
        "            return mat\n",
        "\n",
        "        pivot_row = max(range(current_col, num_rows_of_matrix), key=lambda r: abs(mat[r][current_col]))\n",
        "        mat[current_col], mat[pivot_row] = mat[pivot_row], mat[current_col]\n",
        "\n",
        "        pivot = mat[current_col][current_col]\n",
        "        mat[current_col] = [element / Fraction(pivot) for element in mat[current_col]]\n",
        "\n",
        "        for i in range(num_rows_of_matrix):\n",
        "            if i != current_col:\n",
        "                factor = mat[i][current_col]\n",
        "                for j in range(num_cols_of_matrix):\n",
        "                  mat[i][j] -= factor * mat[current_col][j]\n",
        "\n",
        "        current_col += 1\n",
        "\n",
        "    return mat"
      ]
    },
    {
      "cell_type": "code",
      "source": [
        "mat = ([\n",
        "[-27, 9, -3, 1, 17],\n",
        "[1, 1, 1, 1, 10],\n",
        "[8, 4, 2, 1, 8],\n",
        "[27, 9, 3, 1, 19]\n",
        "     ])\n",
        "\n",
        "for i in range(len(mat)):\n",
        "  for j in range(len(mat[i])):\n",
        "    mat[i][j] = Fraction(mat[i][j])\n",
        "gaus_method(mat)"
      ],
      "metadata": {
        "id": "Fti0-S-0qyNg",
        "colab": {
          "base_uri": "https://localhost:8080/"
        },
        "outputId": "1907ae48-e8b8-44fc-92d5-ceed0f2bf695"
      },
      "execution_count": 100,
      "outputs": [
        {
          "output_type": "execute_result",
          "data": {
            "text/plain": [
              "[[Fraction(1, 1),\n",
              "  Fraction(0, 1),\n",
              "  Fraction(0, 1),\n",
              "  Fraction(0, 1),\n",
              "  Fraction(131, 120)],\n",
              " [Fraction(0, 1),\n",
              "  Fraction(1, 1),\n",
              "  Fraction(0, 1),\n",
              "  Fraction(0, 1),\n",
              "  Fraction(-1, 20)],\n",
              " [Fraction(0, 1),\n",
              "  Fraction(0, 1),\n",
              "  Fraction(1, 1),\n",
              "  Fraction(0, 1),\n",
              "  Fraction(-1139, 120)],\n",
              " [Fraction(0, 1),\n",
              "  Fraction(0, 1),\n",
              "  Fraction(0, 1),\n",
              "  Fraction(1, 1),\n",
              "  Fraction(369, 20)]]"
            ]
          },
          "metadata": {},
          "execution_count": 100
        }
      ]
    },
    {
      "cell_type": "code",
      "source": [],
      "metadata": {
        "id": "i1_QZk4gJomy"
      },
      "execution_count": 89,
      "outputs": []
    }
  ]
}